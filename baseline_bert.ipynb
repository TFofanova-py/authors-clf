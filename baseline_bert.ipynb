{
 "cells": [
  {
   "cell_type": "markdown",
   "metadata": {
    "_kg_hide-output": true,
    "id": "v2_AO1EVY3oL"
   },
   "source": [
    "## Загрузим данные"
   ]
  },
  {
   "cell_type": "code",
   "execution_count": 1,
   "metadata": {
    "execution": {
     "iopub.execute_input": "2023-02-18T09:55:16.753599Z",
     "iopub.status.busy": "2023-02-18T09:55:16.753294Z",
     "iopub.status.idle": "2023-02-18T09:55:16.776399Z",
     "shell.execute_reply": "2023-02-18T09:55:16.775602Z",
     "shell.execute_reply.started": "2023-02-18T09:55:16.753532Z"
    }
   },
   "outputs": [],
   "source": [
    "import pandas as pd\n",
    "import numpy as np"
   ]
  },
  {
   "cell_type": "code",
   "execution_count": 2,
   "metadata": {
    "execution": {
     "iopub.execute_input": "2023-02-18T09:55:21.053346Z",
     "iopub.status.busy": "2023-02-18T09:55:21.052815Z",
     "iopub.status.idle": "2023-02-18T09:55:26.818533Z",
     "shell.execute_reply": "2023-02-18T09:55:26.817426Z",
     "shell.execute_reply.started": "2023-02-18T09:55:21.053298Z"
    },
    "id": "BlZ9DlN9Y7_b"
   },
   "outputs": [],
   "source": [
    "ds_train = pd.read_csv(\"../input/authorstexts/train_data.csv\", usecols=[0, 2])\n",
    "ds_test = pd.read_csv(\"../input/authorstexts/test_data.csv\", usecols=[0, 2])\n",
    "\n",
    "ds_train = ds_train.sample(frac=1)\n",
    "ds_test = ds_test.sample(frac=1)"
   ]
  },
  {
   "cell_type": "code",
   "execution_count": 3,
   "metadata": {
    "execution": {
     "iopub.execute_input": "2023-02-18T09:55:28.739745Z",
     "iopub.status.busy": "2023-02-18T09:55:28.739060Z",
     "iopub.status.idle": "2023-02-18T09:55:28.748382Z",
     "shell.execute_reply": "2023-02-18T09:55:28.747189Z",
     "shell.execute_reply.started": "2023-02-18T09:55:28.739713Z"
    }
   },
   "outputs": [
    {
     "data": {
      "text/plain": [
       "((47162, 2), (18139, 2))"
      ]
     },
     "execution_count": 3,
     "metadata": {},
     "output_type": "execute_result"
    }
   ],
   "source": [
    "ds_train.shape, ds_test.shape"
   ]
  },
  {
   "cell_type": "code",
   "execution_count": 4,
   "metadata": {
    "execution": {
     "iopub.execute_input": "2023-02-18T09:55:29.058809Z",
     "iopub.status.busy": "2023-02-18T09:55:29.058445Z",
     "iopub.status.idle": "2023-02-18T09:55:29.077249Z",
     "shell.execute_reply": "2023-02-18T09:55:29.076385Z",
     "shell.execute_reply.started": "2023-02-18T09:55:29.058778Z"
    }
   },
   "outputs": [
    {
     "data": {
      "text/plain": [
       "{'Saltykov-schedrin': 0,\n",
       " 'Solzhenitsin': 1,\n",
       " 'Chekhov': 2,\n",
       " 'Goncharov': 3,\n",
       " 'Ostrovsky': 4,\n",
       " 'Paustovskiy': 5,\n",
       " 'Prishvin': 6,\n",
       " 'Belyaev': 7,\n",
       " 'Kuprin': 8,\n",
       " 'Turgenev': 9,\n",
       " 'Leskov': 10,\n",
       " 'Pelevin': 11,\n",
       " 'Sergeev-Thsenskiy': 12,\n",
       " 'Kataev': 13,\n",
       " 'Serafimovich': 14,\n",
       " 'Pasternak': 15,\n",
       " 'Gorky': 16,\n",
       " 'Dostoevsky': 17,\n",
       " 'Dovlatov': 18,\n",
       " 'Zoschenko': 19,\n",
       " 'Furmanov': 20,\n",
       " 'Gogol': 21,\n",
       " 'Fray': 22,\n",
       " 'Akunin': 23,\n",
       " 'Kazantsev': 24,\n",
       " 'Lukyanenko': 25,\n",
       " 'Averchenko': 26,\n",
       " 'Tolstoy': 27,\n",
       " 'Bulgakov': 28,\n",
       " 'Bunin': 29,\n",
       " 'Pushkin': 30,\n",
       " 'Ilf_petrov': 31,\n",
       " 'Gaydar': 32,\n",
       " 'Struhgatskie': 33,\n",
       " 'Grin': 34,\n",
       " 'Fadeev': 35,\n",
       " 'Pikul': 36,\n",
       " 'Shukshin': 37}"
      ]
     },
     "execution_count": 4,
     "metadata": {},
     "output_type": "execute_result"
    }
   ],
   "source": [
    "wr2ids = {k: i for i, k in enumerate(ds_train.writer.unique())}\n",
    "wr2ids"
   ]
  },
  {
   "cell_type": "code",
   "execution_count": 5,
   "metadata": {
    "execution": {
     "iopub.execute_input": "2023-02-18T09:55:29.320394Z",
     "iopub.status.busy": "2023-02-18T09:55:29.319717Z",
     "iopub.status.idle": "2023-02-18T09:55:29.326749Z",
     "shell.execute_reply": "2023-02-18T09:55:29.325677Z",
     "shell.execute_reply.started": "2023-02-18T09:55:29.320351Z"
    }
   },
   "outputs": [],
   "source": [
    "ids2wr = {v: k for k, v in wr2ids.items()}"
   ]
  },
  {
   "cell_type": "code",
   "execution_count": 6,
   "metadata": {
    "execution": {
     "iopub.execute_input": "2023-02-18T09:55:29.679359Z",
     "iopub.status.busy": "2023-02-18T09:55:29.678156Z",
     "iopub.status.idle": "2023-02-18T09:55:29.685024Z",
     "shell.execute_reply": "2023-02-18T09:55:29.683908Z",
     "shell.execute_reply.started": "2023-02-18T09:55:29.679310Z"
    },
    "id": "V7R7llPDU-8W"
   },
   "outputs": [],
   "source": [
    "ds_train.reset_index(drop=True, inplace=True)\n",
    "ds_test.reset_index(drop=True, inplace=True)"
   ]
  },
  {
   "cell_type": "markdown",
   "metadata": {
    "id": "zj5BCIuF8EH9"
   },
   "source": [
    "## Создадим даталоадер"
   ]
  },
  {
   "cell_type": "code",
   "execution_count": 7,
   "metadata": {
    "execution": {
     "iopub.execute_input": "2023-02-18T09:55:31.043374Z",
     "iopub.status.busy": "2023-02-18T09:55:31.043002Z",
     "iopub.status.idle": "2023-02-18T09:55:32.621154Z",
     "shell.execute_reply": "2023-02-18T09:55:32.620101Z",
     "shell.execute_reply.started": "2023-02-18T09:55:31.043341Z"
    }
   },
   "outputs": [],
   "source": [
    "import torch"
   ]
  },
  {
   "cell_type": "code",
   "execution_count": 8,
   "metadata": {
    "execution": {
     "iopub.execute_input": "2023-02-18T09:55:32.625886Z",
     "iopub.status.busy": "2023-02-18T09:55:32.624606Z",
     "iopub.status.idle": "2023-02-18T09:55:32.633481Z",
     "shell.execute_reply": "2023-02-18T09:55:32.632220Z",
     "shell.execute_reply.started": "2023-02-18T09:55:32.625845Z"
    },
    "id": "swJg3S2D8JZr"
   },
   "outputs": [],
   "source": [
    "class TextDataset(torch.utils.data.Dataset):\n",
    "  def __init__(self, df, tokenizer, label2id):\n",
    "    super().__init__()\n",
    "    self.texts = df.text\n",
    "    self.labels = df.writer.apply(lambda s: label2id[s])\n",
    "\n",
    "  def __getitem__(self, idx):\n",
    "    examples = tokenizer(self.texts[idx].lower(),\n",
    "                         truncation=True, padding=\"max_length\", max_length=512)\n",
    "    examples[\"label\"] = torch.tensor(self.labels[idx])\n",
    "    return examples\n",
    "\n",
    "  def __len__(self):\n",
    "    return len(self.labels)\n"
   ]
  },
  {
   "cell_type": "markdown",
   "metadata": {
    "id": "3CH2tKPm2lQj"
   },
   "source": [
    "## Дообучим BERT для задачи классификации авторов"
   ]
  },
  {
   "cell_type": "code",
   "execution_count": 9,
   "metadata": {
    "execution": {
     "iopub.execute_input": "2023-02-18T09:55:32.975688Z",
     "iopub.status.busy": "2023-02-18T09:55:32.975330Z",
     "iopub.status.idle": "2023-02-18T09:55:38.822151Z",
     "shell.execute_reply": "2023-02-18T09:55:38.820933Z",
     "shell.execute_reply.started": "2023-02-18T09:55:32.975657Z"
    },
    "id": "0BZWA-dw598u"
   },
   "outputs": [],
   "source": [
    "from transformers import AutoTokenizer, AutoModelForSequenceClassification\n",
    "from transformers import TrainingArguments, Trainer"
   ]
  },
  {
   "cell_type": "code",
   "execution_count": 10,
   "metadata": {
    "execution": {
     "iopub.execute_input": "2023-02-18T09:55:38.827630Z",
     "iopub.status.busy": "2023-02-18T09:55:38.826802Z",
     "iopub.status.idle": "2023-02-18T09:55:51.676590Z",
     "shell.execute_reply": "2023-02-18T09:55:51.675547Z",
     "shell.execute_reply.started": "2023-02-18T09:55:38.827602Z"
    }
   },
   "outputs": [
    {
     "name": "stderr",
     "output_type": "stream",
     "text": [
      "\u001b[34m\u001b[1mwandb\u001b[0m: Logging into wandb.ai. (Learn how to deploy a W&B server locally: https://wandb.me/wandb-server)\n",
      "\u001b[34m\u001b[1mwandb\u001b[0m: You can find your API key in your browser here: https://wandb.ai/authorize\n",
      "\u001b[34m\u001b[1mwandb\u001b[0m: Paste an API key from your profile and hit enter, or press ctrl+c to quit:"
     ]
    },
    {
     "name": "stdin",
     "output_type": "stream",
     "text": [
      "  ········································\n"
     ]
    },
    {
     "name": "stderr",
     "output_type": "stream",
     "text": [
      "\u001b[34m\u001b[1mwandb\u001b[0m: Appending key for api.wandb.ai to your netrc file: /root/.netrc\n"
     ]
    },
    {
     "data": {
      "text/plain": [
       "True"
      ]
     },
     "execution_count": 10,
     "metadata": {},
     "output_type": "execute_result"
    }
   ],
   "source": [
    "import wandb\n",
    "wandb.login()"
   ]
  },
  {
   "cell_type": "code",
   "execution_count": null,
   "metadata": {
    "execution": {
     "iopub.execute_input": "2023-02-18T09:55:51.678630Z",
     "iopub.status.busy": "2023-02-18T09:55:51.678214Z",
     "iopub.status.idle": "2023-02-18T09:56:05.034118Z",
     "shell.execute_reply": "2023-02-18T09:56:05.032846Z",
     "shell.execute_reply.started": "2023-02-18T09:55:51.678592Z"
    }
   },
   "outputs": [],
   "source": [
    "! pip install evaluate"
   ]
  },
  {
   "cell_type": "code",
   "execution_count": 12,
   "metadata": {
    "execution": {
     "iopub.execute_input": "2023-02-18T09:56:05.043355Z",
     "iopub.status.busy": "2023-02-18T09:56:05.040537Z",
     "iopub.status.idle": "2023-02-18T09:56:08.204520Z",
     "shell.execute_reply": "2023-02-18T09:56:08.203308Z",
     "shell.execute_reply.started": "2023-02-18T09:56:05.043313Z"
    }
   },
   "outputs": [],
   "source": [
    "import evaluate\n",
    "import os"
   ]
  },
  {
   "cell_type": "code",
   "execution_count": 13,
   "metadata": {
    "execution": {
     "iopub.execute_input": "2023-02-18T09:56:08.206576Z",
     "iopub.status.busy": "2023-02-18T09:56:08.206218Z",
     "iopub.status.idle": "2023-02-18T09:56:14.088101Z",
     "shell.execute_reply": "2023-02-18T09:56:14.087112Z",
     "shell.execute_reply.started": "2023-02-18T09:56:08.206532Z"
    },
    "id": "dNrPJx3sd7mJ"
   },
   "outputs": [
    {
     "data": {
      "application/vnd.jupyter.widget-view+json": {
       "model_id": "806bd682575542a58fcd5d4a55fab9ab",
       "version_major": 2,
       "version_minor": 0
      },
      "text/plain": [
       "Downloading builder script:   0%|          | 0.00/6.77k [00:00<?, ?B/s]"
      ]
     },
     "metadata": {},
     "output_type": "display_data"
    },
    {
     "data": {
      "application/vnd.jupyter.widget-view+json": {
       "model_id": "8e2cc45333e143fb8df9fd13799be264",
       "version_major": 2,
       "version_minor": 0
      },
      "text/plain": [
       "Downloading builder script:   0%|          | 0.00/4.20k [00:00<?, ?B/s]"
      ]
     },
     "metadata": {},
     "output_type": "display_data"
    },
    {
     "data": {
      "application/vnd.jupyter.widget-view+json": {
       "model_id": "33e09a30a6aa4f6cb89415d0e59dd5e4",
       "version_major": 2,
       "version_minor": 0
      },
      "text/plain": [
       "Downloading builder script:   0%|          | 0.00/7.36k [00:00<?, ?B/s]"
      ]
     },
     "metadata": {},
     "output_type": "display_data"
    },
    {
     "data": {
      "application/vnd.jupyter.widget-view+json": {
       "model_id": "51268d740fad49d0b18abb4ce03df97b",
       "version_major": 2,
       "version_minor": 0
      },
      "text/plain": [
       "Downloading builder script:   0%|          | 0.00/7.55k [00:00<?, ?B/s]"
      ]
     },
     "metadata": {},
     "output_type": "display_data"
    }
   ],
   "source": [
    "f1 = evaluate.load(\"f1\")\n",
    "acc = evaluate.load(\"accuracy\")\n",
    "recall = evaluate.load(\"recall\")\n",
    "precision = evaluate.load(\"precision\")\n",
    "\n",
    "def compute_metrics(eval_pred):\n",
    "    logits, labels = eval_pred\n",
    "    predictions = np.argmax(logits, axis=-1)\n",
    "    f1_macro = f1.compute(predictions=predictions, references=labels, average='macro')\n",
    "    f1_micro = f1.compute(predictions=predictions, references=labels, average='micro')\n",
    "    acc_score = acc.compute(predictions=predictions, references=labels)\n",
    "    rec_macro = recall.compute(predictions=predictions, references=labels, average='macro')\n",
    "    rec_micro = recall.compute(predictions=predictions, references=labels, average='micro')\n",
    "    prec_macro = precision.compute(predictions=predictions, references=labels, average='macro')\n",
    "    prec_micro = precision.compute(predictions=predictions, references=labels, average='micro')\n",
    "    return {\"f1_macro\": f1_macro[\"f1\"], \"f1_micro\": f1_micro[\"f1\"], \n",
    "            \"recall_macro\": rec_macro[\"recall\"], \"recall_micro\": rec_micro[\"recall\"], \n",
    "            \"precision_macro\": prec_macro[\"precision\"], \"precision_micro\": prec_micro[\"precision\"]}"
   ]
  },
  {
   "cell_type": "code",
   "execution_count": null,
   "metadata": {
    "colab": {
     "base_uri": "https://localhost:8080/",
     "height": 484
    },
    "execution": {
     "iopub.execute_input": "2023-02-18T09:56:14.089990Z",
     "iopub.status.busy": "2023-02-18T09:56:14.089553Z",
     "iopub.status.idle": "2023-02-18T09:56:52.887415Z",
     "shell.execute_reply": "2023-02-18T09:56:52.881174Z",
     "shell.execute_reply.started": "2023-02-18T09:56:14.089954Z"
    },
    "id": "BIRDJ4omd-u7",
    "outputId": "14cd9839-23c4-47cf-d594-cf4bbef32614"
   },
   "outputs": [],
   "source": [
    "huggingface_name = \"sberbank-ai/ruBert-base\"\n",
    "batch_size = 6\n",
    "num_train_epochs = 5\n",
    "\n",
    "tokenizer = AutoTokenizer.from_pretrained(huggingface_name)\n",
    "model = AutoModelForSequenceClassification.from_pretrained(huggingface_name,\n",
    "                                                           return_dict=True, num_labels=38,\n",
    "                                                           ignore_mismatched_sizes=True)     \n",
    "model.config.id2label = ids2wr\n",
    "model.config.label2id = wr2ids\n",
    "\n",
    "wandb.init(project=\"hw-nlp\")\n",
    "wandb.watch(model)\n",
    "\n",
    "train_dataset = TextDataset(ds_train, tokenizer, model.config.label2id)\n",
    "test_dataset = TextDataset(ds_test, tokenizer, model.config.label2id)\n",
    "\n",
    "\n",
    "training_args = TrainingArguments(\n",
    "    output_dir=\"test_trainer\",\n",
    "    evaluation_strategy=\"epoch\",\n",
    "    # evaluation_strategy=\"steps\",\n",
    "    # eval_steps=30,\n",
    "    per_device_train_batch_size=batch_size,\n",
    "    per_device_eval_batch_size=batch_size,\n",
    "    num_train_epochs=num_train_epochs,\n",
    "    save_strategy=\"epoch\",\n",
    "    # save_strategy=\"steps\",\n",
    "    save_steps=3000,\n",
    "    save_total_limit=2,\n",
    "    load_best_model_at_end=True,\n",
    "    metric_for_best_model=\"f1_macro\")\n",
    "\n",
    "trainer = Trainer(\n",
    "    model=model,\n",
    "    args=training_args,\n",
    "    train_dataset=train_dataset,\n",
    "    eval_dataset=test_dataset,\n",
    "    compute_metrics=compute_metrics\n",
    ")"
   ]
  },
  {
   "cell_type": "code",
   "execution_count": null,
   "metadata": {},
   "outputs": [],
   "source": [
    "trainer.train()"
   ]
  },
  {
   "cell_type": "code",
   "execution_count": null,
   "metadata": {},
   "outputs": [],
   "source": [
    "trainer.save_model(\"model\")"
   ]
  },
  {
   "cell_type": "code",
   "execution_count": null,
   "metadata": {},
   "outputs": [],
   "source": [
    "artifact = wandb.Artifact('baseline38-balanced', type='model')\n",
    "artifact.add_dir('model/')\n",
    "wandb.log_artifact(artifact)"
   ]
  },
  {
   "cell_type": "markdown",
   "metadata": {},
   "source": [
    "#### Evaluation of baseline BERT"
   ]
  },
  {
   "cell_type": "code",
   "execution_count": 15,
   "metadata": {
    "execution": {
     "iopub.execute_input": "2023-02-18T09:56:52.895683Z",
     "iopub.status.busy": "2023-02-18T09:56:52.895244Z",
     "iopub.status.idle": "2023-02-18T09:58:06.900818Z",
     "shell.execute_reply": "2023-02-18T09:58:06.899760Z",
     "shell.execute_reply.started": "2023-02-18T09:56:52.895630Z"
    }
   },
   "outputs": [
    {
     "data": {
      "text/html": [
       "Finishing last run (ID:2fevncvi) before initializing another..."
      ],
      "text/plain": [
       "<IPython.core.display.HTML object>"
      ]
     },
     "metadata": {},
     "output_type": "display_data"
    },
    {
     "data": {
      "text/html": [
       "Waiting for W&B process to finish... <strong style=\"color:green\">(success).</strong>"
      ],
      "text/plain": [
       "<IPython.core.display.HTML object>"
      ]
     },
     "metadata": {},
     "output_type": "display_data"
    },
    {
     "data": {
      "application/vnd.jupyter.widget-view+json": {
       "model_id": "",
       "version_major": 2,
       "version_minor": 0
      },
      "text/plain": [
       "VBox(children=(Label(value='0.000 MB of 0.000 MB uploaded (0.000 MB deduped)\\r'), FloatProgress(value=1.0, max…"
      ]
     },
     "metadata": {},
     "output_type": "display_data"
    },
    {
     "data": {
      "text/html": [
       "Synced <strong style=\"color:#cdcd00\">treasured-frog-90</strong>: <a href=\"https://wandb.ai/sava_ml/hw-nlp/runs/2fevncvi\" target=\"_blank\">https://wandb.ai/sava_ml/hw-nlp/runs/2fevncvi</a><br/>Synced 5 W&B file(s), 0 media file(s), 0 artifact file(s) and 0 other file(s)"
      ],
      "text/plain": [
       "<IPython.core.display.HTML object>"
      ]
     },
     "metadata": {},
     "output_type": "display_data"
    },
    {
     "data": {
      "text/html": [
       "Find logs at: <code>./wandb/run-20230218_095638-2fevncvi/logs</code>"
      ],
      "text/plain": [
       "<IPython.core.display.HTML object>"
      ]
     },
     "metadata": {},
     "output_type": "display_data"
    },
    {
     "data": {
      "text/html": [
       "Successfully finished last run (ID:2fevncvi). Initializing new run:<br/>"
      ],
      "text/plain": [
       "<IPython.core.display.HTML object>"
      ]
     },
     "metadata": {},
     "output_type": "display_data"
    },
    {
     "data": {
      "text/html": [
       "wandb version 0.13.10 is available!  To upgrade, please run:\n",
       " $ pip install wandb --upgrade"
      ],
      "text/plain": [
       "<IPython.core.display.HTML object>"
      ]
     },
     "metadata": {},
     "output_type": "display_data"
    },
    {
     "data": {
      "text/html": [
       "Tracking run with wandb version 0.12.21"
      ],
      "text/plain": [
       "<IPython.core.display.HTML object>"
      ]
     },
     "metadata": {},
     "output_type": "display_data"
    },
    {
     "data": {
      "text/html": [
       "Run data is saved locally in <code>/kaggle/working/wandb/run-20230218_095652-mu0uhkot</code>"
      ],
      "text/plain": [
       "<IPython.core.display.HTML object>"
      ]
     },
     "metadata": {},
     "output_type": "display_data"
    },
    {
     "data": {
      "text/html": [
       "Syncing run <strong><a href=\"https://wandb.ai/sava_ml/uncategorized/runs/mu0uhkot\" target=\"_blank\">zany-fire-25</a></strong> to <a href=\"https://wandb.ai/sava_ml/uncategorized\" target=\"_blank\">Weights & Biases</a> (<a href=\"https://wandb.me/run\" target=\"_blank\">docs</a>)<br/>"
      ],
      "text/plain": [
       "<IPython.core.display.HTML object>"
      ]
     },
     "metadata": {},
     "output_type": "display_data"
    },
    {
     "name": "stderr",
     "output_type": "stream",
     "text": [
      "\u001b[34m\u001b[1mwandb\u001b[0m: Downloading large artifact baseline38:v1, 680.37MB. 3 files... Done. 0:0:30.7\n"
     ]
    }
   ],
   "source": [
    "run = wandb.init()\n",
    "artifact = run.use_artifact('sava_ml/hw-nlp/baseline38:v1', type='model')\n",
    "artifact_dir = artifact.download()"
   ]
  },
  {
   "cell_type": "code",
   "execution_count": 17,
   "metadata": {
    "execution": {
     "iopub.execute_input": "2023-02-18T10:21:22.116808Z",
     "iopub.status.busy": "2023-02-18T10:21:22.116135Z",
     "iopub.status.idle": "2023-02-18T10:27:30.702468Z",
     "shell.execute_reply": "2023-02-18T10:27:30.701127Z",
     "shell.execute_reply.started": "2023-02-18T10:21:22.116775Z"
    }
   },
   "outputs": [
    {
     "name": "stderr",
     "output_type": "stream",
     "text": [
      "Could not locate the tokenizer configuration file, will try to use the model config instead.\n",
      "loading configuration file https://huggingface.co/sberbank-ai/ruBert-base/resolve/main/config.json from cache at /root/.cache/huggingface/transformers/3ff2b30ffd2e83991ada1f23ca4d7adad284baa741ea21704f02d83b72405c79.b7ac951e56a7d9c2e7e295337ac13c91834fc4cd1578bc46e5ebc1fb8ac81fb5\n",
      "Model config BertConfig {\n",
      "  \"_name_or_path\": \"sberbank-ai/ruBert-base\",\n",
      "  \"architectures\": [\n",
      "    \"BertForMaskedLM\"\n",
      "  ],\n",
      "  \"attention_probs_dropout_prob\": 0.1,\n",
      "  \"classifier_dropout\": null,\n",
      "  \"directionality\": \"bidi\",\n",
      "  \"hidden_act\": \"gelu\",\n",
      "  \"hidden_dropout_prob\": 0.1,\n",
      "  \"hidden_size\": 768,\n",
      "  \"initializer_range\": 0.02,\n",
      "  \"intermediate_size\": 3072,\n",
      "  \"layer_norm_eps\": 1e-12,\n",
      "  \"max_position_embeddings\": 512,\n",
      "  \"model_type\": \"bert\",\n",
      "  \"num_attention_heads\": 12,\n",
      "  \"num_hidden_layers\": 12,\n",
      "  \"pad_token_id\": 0,\n",
      "  \"pooler_fc_size\": 768,\n",
      "  \"pooler_num_attention_heads\": 12,\n",
      "  \"pooler_num_fc_layers\": 3,\n",
      "  \"pooler_size_per_head\": 128,\n",
      "  \"pooler_type\": \"first_token_transform\",\n",
      "  \"position_embedding_type\": \"absolute\",\n",
      "  \"transformers_version\": \"4.20.1\",\n",
      "  \"type_vocab_size\": 2,\n",
      "  \"use_cache\": true,\n",
      "  \"vocab_size\": 120138\n",
      "}\n",
      "\n",
      "loading file https://huggingface.co/sberbank-ai/ruBert-base/resolve/main/vocab.txt from cache at /root/.cache/huggingface/transformers/894ee6c75173bea620f08bc907dbb99c6da1a0cee7ce7f81c3ad91dbb0d3b2a6.8a15a3f9a238139bbd1d85ed0715ebad4078d4919f57be2a94d999cb6ff4d054\n",
      "loading file https://huggingface.co/sberbank-ai/ruBert-base/resolve/main/tokenizer.json from cache at None\n",
      "loading file https://huggingface.co/sberbank-ai/ruBert-base/resolve/main/added_tokens.json from cache at None\n",
      "loading file https://huggingface.co/sberbank-ai/ruBert-base/resolve/main/special_tokens_map.json from cache at None\n",
      "loading file https://huggingface.co/sberbank-ai/ruBert-base/resolve/main/tokenizer_config.json from cache at None\n",
      "loading configuration file https://huggingface.co/sberbank-ai/ruBert-base/resolve/main/config.json from cache at /root/.cache/huggingface/transformers/3ff2b30ffd2e83991ada1f23ca4d7adad284baa741ea21704f02d83b72405c79.b7ac951e56a7d9c2e7e295337ac13c91834fc4cd1578bc46e5ebc1fb8ac81fb5\n",
      "Model config BertConfig {\n",
      "  \"_name_or_path\": \"sberbank-ai/ruBert-base\",\n",
      "  \"architectures\": [\n",
      "    \"BertForMaskedLM\"\n",
      "  ],\n",
      "  \"attention_probs_dropout_prob\": 0.1,\n",
      "  \"classifier_dropout\": null,\n",
      "  \"directionality\": \"bidi\",\n",
      "  \"hidden_act\": \"gelu\",\n",
      "  \"hidden_dropout_prob\": 0.1,\n",
      "  \"hidden_size\": 768,\n",
      "  \"initializer_range\": 0.02,\n",
      "  \"intermediate_size\": 3072,\n",
      "  \"layer_norm_eps\": 1e-12,\n",
      "  \"max_position_embeddings\": 512,\n",
      "  \"model_type\": \"bert\",\n",
      "  \"num_attention_heads\": 12,\n",
      "  \"num_hidden_layers\": 12,\n",
      "  \"pad_token_id\": 0,\n",
      "  \"pooler_fc_size\": 768,\n",
      "  \"pooler_num_attention_heads\": 12,\n",
      "  \"pooler_num_fc_layers\": 3,\n",
      "  \"pooler_size_per_head\": 128,\n",
      "  \"pooler_type\": \"first_token_transform\",\n",
      "  \"position_embedding_type\": \"absolute\",\n",
      "  \"transformers_version\": \"4.20.1\",\n",
      "  \"type_vocab_size\": 2,\n",
      "  \"use_cache\": true,\n",
      "  \"vocab_size\": 120138\n",
      "}\n",
      "\n",
      "loading configuration file https://huggingface.co/sberbank-ai/ruBert-base/resolve/main/config.json from cache at /root/.cache/huggingface/transformers/3ff2b30ffd2e83991ada1f23ca4d7adad284baa741ea21704f02d83b72405c79.b7ac951e56a7d9c2e7e295337ac13c91834fc4cd1578bc46e5ebc1fb8ac81fb5\n",
      "Model config BertConfig {\n",
      "  \"_name_or_path\": \"sberbank-ai/ruBert-base\",\n",
      "  \"architectures\": [\n",
      "    \"BertForMaskedLM\"\n",
      "  ],\n",
      "  \"attention_probs_dropout_prob\": 0.1,\n",
      "  \"classifier_dropout\": null,\n",
      "  \"directionality\": \"bidi\",\n",
      "  \"hidden_act\": \"gelu\",\n",
      "  \"hidden_dropout_prob\": 0.1,\n",
      "  \"hidden_size\": 768,\n",
      "  \"initializer_range\": 0.02,\n",
      "  \"intermediate_size\": 3072,\n",
      "  \"layer_norm_eps\": 1e-12,\n",
      "  \"max_position_embeddings\": 512,\n",
      "  \"model_type\": \"bert\",\n",
      "  \"num_attention_heads\": 12,\n",
      "  \"num_hidden_layers\": 12,\n",
      "  \"pad_token_id\": 0,\n",
      "  \"pooler_fc_size\": 768,\n",
      "  \"pooler_num_attention_heads\": 12,\n",
      "  \"pooler_num_fc_layers\": 3,\n",
      "  \"pooler_size_per_head\": 128,\n",
      "  \"pooler_type\": \"first_token_transform\",\n",
      "  \"position_embedding_type\": \"absolute\",\n",
      "  \"transformers_version\": \"4.20.1\",\n",
      "  \"type_vocab_size\": 2,\n",
      "  \"use_cache\": true,\n",
      "  \"vocab_size\": 120138\n",
      "}\n",
      "\n",
      "loading configuration file artifacts/baseline38:v1/config.json\n",
      "Model config BertConfig {\n",
      "  \"_name_or_path\": \"artifacts/baseline38:v1\",\n",
      "  \"architectures\": [\n",
      "    \"BertForSequenceClassification\"\n",
      "  ],\n",
      "  \"attention_probs_dropout_prob\": 0.1,\n",
      "  \"classifier_dropout\": null,\n",
      "  \"directionality\": \"bidi\",\n",
      "  \"hidden_act\": \"gelu\",\n",
      "  \"hidden_dropout_prob\": 0.1,\n",
      "  \"hidden_size\": 768,\n",
      "  \"id2label\": {\n",
      "    \"0\": \"Paustovskiy\",\n",
      "    \"1\": \"Tolstoy\",\n",
      "    \"2\": \"Solzhenitsin\",\n",
      "    \"3\": \"Dostoevsky\",\n",
      "    \"4\": \"Furmanov\",\n",
      "    \"5\": \"Belyaev\",\n",
      "    \"6\": \"Bunin\",\n",
      "    \"7\": \"Pikul\",\n",
      "    \"8\": \"Sergeev-Thsenskiy\",\n",
      "    \"9\": \"Fray\",\n",
      "    \"10\": \"Leskov\",\n",
      "    \"11\": \"Kazantsev\",\n",
      "    \"12\": \"Ostrovsky\",\n",
      "    \"13\": \"Ilf_petrov\",\n",
      "    \"14\": \"Saltykov-schedrin\",\n",
      "    \"15\": \"Gorky\",\n",
      "    \"16\": \"Pasternak\",\n",
      "    \"17\": \"Kataev\",\n",
      "    \"18\": \"Bulgakov\",\n",
      "    \"19\": \"Serafimovich\",\n",
      "    \"20\": \"Prishvin\",\n",
      "    \"21\": \"Grin\",\n",
      "    \"22\": \"Akunin\",\n",
      "    \"23\": \"Averchenko\",\n",
      "    \"24\": \"Turgenev\",\n",
      "    \"25\": \"Pushkin\",\n",
      "    \"26\": \"Gogol\",\n",
      "    \"27\": \"Gaydar\",\n",
      "    \"28\": \"Goncharov\",\n",
      "    \"29\": \"Kuprin\",\n",
      "    \"30\": \"Chekhov\",\n",
      "    \"31\": \"Lukyanenko\",\n",
      "    \"32\": \"Struhgatskie\",\n",
      "    \"33\": \"Zoschenko\",\n",
      "    \"34\": \"Pelevin\",\n",
      "    \"35\": \"Fadeev\",\n",
      "    \"36\": \"Dovlatov\",\n",
      "    \"37\": \"Shukshin\"\n",
      "  },\n",
      "  \"initializer_range\": 0.02,\n",
      "  \"intermediate_size\": 3072,\n",
      "  \"label2id\": {\n",
      "    \"Akunin\": 22,\n",
      "    \"Averchenko\": 23,\n",
      "    \"Belyaev\": 5,\n",
      "    \"Bulgakov\": 18,\n",
      "    \"Bunin\": 6,\n",
      "    \"Chekhov\": 30,\n",
      "    \"Dostoevsky\": 3,\n",
      "    \"Dovlatov\": 36,\n",
      "    \"Fadeev\": 35,\n",
      "    \"Fray\": 9,\n",
      "    \"Furmanov\": 4,\n",
      "    \"Gaydar\": 27,\n",
      "    \"Gogol\": 26,\n",
      "    \"Goncharov\": 28,\n",
      "    \"Gorky\": 15,\n",
      "    \"Grin\": 21,\n",
      "    \"Ilf_petrov\": 13,\n",
      "    \"Kataev\": 17,\n",
      "    \"Kazantsev\": 11,\n",
      "    \"Kuprin\": 29,\n",
      "    \"Leskov\": 10,\n",
      "    \"Lukyanenko\": 31,\n",
      "    \"Ostrovsky\": 12,\n",
      "    \"Pasternak\": 16,\n",
      "    \"Paustovskiy\": 0,\n",
      "    \"Pelevin\": 34,\n",
      "    \"Pikul\": 7,\n",
      "    \"Prishvin\": 20,\n",
      "    \"Pushkin\": 25,\n",
      "    \"Saltykov-schedrin\": 14,\n",
      "    \"Serafimovich\": 19,\n",
      "    \"Sergeev-Thsenskiy\": 8,\n",
      "    \"Shukshin\": 37,\n",
      "    \"Solzhenitsin\": 2,\n",
      "    \"Struhgatskie\": 32,\n",
      "    \"Tolstoy\": 1,\n",
      "    \"Turgenev\": 24,\n",
      "    \"Zoschenko\": 33\n",
      "  },\n",
      "  \"layer_norm_eps\": 1e-12,\n",
      "  \"max_position_embeddings\": 512,\n",
      "  \"model_type\": \"bert\",\n",
      "  \"num_attention_heads\": 12,\n",
      "  \"num_hidden_layers\": 12,\n",
      "  \"pad_token_id\": 0,\n",
      "  \"pooler_fc_size\": 768,\n",
      "  \"pooler_num_attention_heads\": 12,\n",
      "  \"pooler_num_fc_layers\": 3,\n",
      "  \"pooler_size_per_head\": 128,\n",
      "  \"pooler_type\": \"first_token_transform\",\n",
      "  \"position_embedding_type\": \"absolute\",\n",
      "  \"problem_type\": \"single_label_classification\",\n",
      "  \"torch_dtype\": \"float32\",\n",
      "  \"transformers_version\": \"4.20.1\",\n",
      "  \"type_vocab_size\": 2,\n",
      "  \"use_cache\": true,\n",
      "  \"vocab_size\": 120138\n",
      "}\n",
      "\n",
      "loading weights file artifacts/baseline38:v1/pytorch_model.bin\n",
      "All model checkpoint weights were used when initializing BertForSequenceClassification.\n",
      "\n",
      "All the weights of BertForSequenceClassification were initialized from the model checkpoint at artifacts/baseline38:v1.\n",
      "If your task is similar to the task the model of the checkpoint was trained on, you can already use BertForSequenceClassification for predictions without further training.\n",
      "No `TrainingArguments` passed, using `output_dir=tmp_trainer`.\n",
      "PyTorch: setting up devices\n",
      "The default value for the training argument `--report_to` will change in v5 (from all installed integrations to none). In v5, you will need to use `--report_to all` to get the same behavior as now. You should start updating your code and make this info disappear :-).\n",
      "***** Running Evaluation *****\n",
      "  Num examples = 18139\n",
      "  Batch size = 8\n"
     ]
    },
    {
     "data": {
      "text/html": [
       "\n",
       "    <div>\n",
       "      \n",
       "      <progress value='2268' max='2268' style='width:300px; height:20px; vertical-align: middle;'></progress>\n",
       "      [2268/2268 06:00]\n",
       "    </div>\n",
       "    "
      ],
      "text/plain": [
       "<IPython.core.display.HTML object>"
      ]
     },
     "metadata": {},
     "output_type": "display_data"
    },
    {
     "name": "stderr",
     "output_type": "stream",
     "text": [
      "Automatic Weights & Biases logging enabled, to disable set os.environ[\"WANDB_DISABLED\"] = \"true\"\n"
     ]
    },
    {
     "data": {
      "text/plain": [
       "{'eval_loss': 1.7595490217208862,\n",
       " 'eval_f1_macro': 0.7433203875114444,\n",
       " 'eval_f1_micro': 0.7805281437785986,\n",
       " 'eval_recall_macro': 0.7494152757331275,\n",
       " 'eval_recall_micro': 0.7805281437785986,\n",
       " 'eval_precision_macro': 0.7780588645159315,\n",
       " 'eval_precision_micro': 0.7805281437785986,\n",
       " 'eval_runtime': 361.3039,\n",
       " 'eval_samples_per_second': 50.204,\n",
       " 'eval_steps_per_second': 6.277}"
      ]
     },
     "execution_count": 17,
     "metadata": {},
     "output_type": "execute_result"
    }
   ],
   "source": [
    "tokenizer = AutoTokenizer.from_pretrained(huggingface_name)\n",
    "model = AutoModelForSequenceClassification.from_pretrained('artifacts/baseline38:v1') \n",
    "\n",
    "train_dataset = TextDataset(ds_train, tokenizer, model.config.label2id)\n",
    "test_dataset = TextDataset(ds_test, tokenizer, model.config.label2id)\n",
    "\n",
    "trainer = Trainer(\n",
    "    model=model,\n",
    "    train_dataset=train_dataset,\n",
    "    eval_dataset=test_dataset,\n",
    "    compute_metrics=compute_metrics\n",
    ")\n",
    "\n",
    "trainer.evaluate(test_dataset)"
   ]
  },
  {
   "cell_type": "code",
   "execution_count": null,
   "metadata": {},
   "outputs": [],
   "source": []
  }
 ],
 "metadata": {
  "accelerator": "GPU",
  "colab": {
   "provenance": []
  },
  "gpuClass": "standard",
  "kernelspec": {
   "display_name": "Python 3 (ipykernel)",
   "language": "python",
   "name": "python3"
  },
  "language_info": {
   "codemirror_mode": {
    "name": "ipython",
    "version": 3
   },
   "file_extension": ".py",
   "mimetype": "text/x-python",
   "name": "python",
   "nbconvert_exporter": "python",
   "pygments_lexer": "ipython3",
   "version": "3.8.10"
  },
  "widgets": {
   "application/vnd.jupyter.widget-state+json": {
    "03a864eb3fca49d28c4137fe02d58ae7": {
     "model_module": "@jupyter-widgets/base",
     "model_module_version": "1.2.0",
     "model_name": "LayoutModel",
     "state": {
      "_model_module": "@jupyter-widgets/base",
      "_model_module_version": "1.2.0",
      "_model_name": "LayoutModel",
      "_view_count": null,
      "_view_module": "@jupyter-widgets/base",
      "_view_module_version": "1.2.0",
      "_view_name": "LayoutView",
      "align_content": null,
      "align_items": null,
      "align_self": null,
      "border": null,
      "bottom": null,
      "display": null,
      "flex": null,
      "flex_flow": null,
      "grid_area": null,
      "grid_auto_columns": null,
      "grid_auto_flow": null,
      "grid_auto_rows": null,
      "grid_column": null,
      "grid_gap": null,
      "grid_row": null,
      "grid_template_areas": null,
      "grid_template_columns": null,
      "grid_template_rows": null,
      "height": null,
      "justify_content": null,
      "justify_items": null,
      "left": null,
      "margin": null,
      "max_height": null,
      "max_width": null,
      "min_height": null,
      "min_width": null,
      "object_fit": null,
      "object_position": null,
      "order": null,
      "overflow": null,
      "overflow_x": null,
      "overflow_y": null,
      "padding": null,
      "right": null,
      "top": null,
      "visibility": null,
      "width": null
     }
    },
    "2615816b74c646549e505dc4a7dec4ed": {
     "model_module": "@jupyter-widgets/controls",
     "model_module_version": "1.5.0",
     "model_name": "DescriptionStyleModel",
     "state": {
      "_model_module": "@jupyter-widgets/controls",
      "_model_module_version": "1.5.0",
      "_model_name": "DescriptionStyleModel",
      "_view_count": null,
      "_view_module": "@jupyter-widgets/base",
      "_view_module_version": "1.2.0",
      "_view_name": "StyleView",
      "description_width": ""
     }
    },
    "358858abde724570a7c399788bdf321c": {
     "model_module": "@jupyter-widgets/controls",
     "model_module_version": "1.5.0",
     "model_name": "DescriptionStyleModel",
     "state": {
      "_model_module": "@jupyter-widgets/controls",
      "_model_module_version": "1.5.0",
      "_model_name": "DescriptionStyleModel",
      "_view_count": null,
      "_view_module": "@jupyter-widgets/base",
      "_view_module_version": "1.2.0",
      "_view_name": "StyleView",
      "description_width": ""
     }
    },
    "3c4c5131cb784aad8cd5de629dd8f05f": {
     "model_module": "@jupyter-widgets/controls",
     "model_module_version": "1.5.0",
     "model_name": "HTMLModel",
     "state": {
      "_dom_classes": [],
      "_model_module": "@jupyter-widgets/controls",
      "_model_module_version": "1.5.0",
      "_model_name": "HTMLModel",
      "_view_count": null,
      "_view_module": "@jupyter-widgets/controls",
      "_view_module_version": "1.5.0",
      "_view_name": "HTMLView",
      "description": "",
      "description_tooltip": null,
      "layout": "IPY_MODEL_e09cdd38d9fd4aa4a4b122819c5ea95a",
      "placeholder": "​",
      "style": "IPY_MODEL_eb7f001689f64573a8ed59eab191f905",
      "value": " 590/590 [00:00&lt;00:00, 8.65kB/s]"
     }
    },
    "510bddf756a24cfba139b867b4e3e768": {
     "model_module": "@jupyter-widgets/controls",
     "model_module_version": "1.5.0",
     "model_name": "HTMLModel",
     "state": {
      "_dom_classes": [],
      "_model_module": "@jupyter-widgets/controls",
      "_model_module_version": "1.5.0",
      "_model_name": "HTMLModel",
      "_view_count": null,
      "_view_module": "@jupyter-widgets/controls",
      "_view_module_version": "1.5.0",
      "_view_name": "HTMLView",
      "description": "",
      "description_tooltip": null,
      "layout": "IPY_MODEL_df7e31c5d043413582bc4d6aca33c019",
      "placeholder": "​",
      "style": "IPY_MODEL_90c3ef0a0e5643489494c8152e36671e",
      "value": " 1.78M/1.78M [00:00&lt;00:00, 13.9MB/s]"
     }
    },
    "52ee67c925164cf38e4670083f198042": {
     "model_module": "@jupyter-widgets/base",
     "model_module_version": "1.2.0",
     "model_name": "LayoutModel",
     "state": {
      "_model_module": "@jupyter-widgets/base",
      "_model_module_version": "1.2.0",
      "_model_name": "LayoutModel",
      "_view_count": null,
      "_view_module": "@jupyter-widgets/base",
      "_view_module_version": "1.2.0",
      "_view_name": "LayoutView",
      "align_content": null,
      "align_items": null,
      "align_self": null,
      "border": null,
      "bottom": null,
      "display": null,
      "flex": null,
      "flex_flow": null,
      "grid_area": null,
      "grid_auto_columns": null,
      "grid_auto_flow": null,
      "grid_auto_rows": null,
      "grid_column": null,
      "grid_gap": null,
      "grid_row": null,
      "grid_template_areas": null,
      "grid_template_columns": null,
      "grid_template_rows": null,
      "height": null,
      "justify_content": null,
      "justify_items": null,
      "left": null,
      "margin": null,
      "max_height": null,
      "max_width": null,
      "min_height": null,
      "min_width": null,
      "object_fit": null,
      "object_position": null,
      "order": null,
      "overflow": null,
      "overflow_x": null,
      "overflow_y": null,
      "padding": null,
      "right": null,
      "top": null,
      "visibility": null,
      "width": null
     }
    },
    "86c833ab5cc94b48bd4715155df7c0a2": {
     "model_module": "@jupyter-widgets/controls",
     "model_module_version": "1.5.0",
     "model_name": "FloatProgressModel",
     "state": {
      "_dom_classes": [],
      "_model_module": "@jupyter-widgets/controls",
      "_model_module_version": "1.5.0",
      "_model_name": "FloatProgressModel",
      "_view_count": null,
      "_view_module": "@jupyter-widgets/controls",
      "_view_module_version": "1.5.0",
      "_view_name": "ProgressView",
      "bar_style": "success",
      "description": "",
      "description_tooltip": null,
      "layout": "IPY_MODEL_52ee67c925164cf38e4670083f198042",
      "max": 590,
      "min": 0,
      "orientation": "horizontal",
      "style": "IPY_MODEL_cafcb0fd1bfb4b719528948792b3085a",
      "value": 590
     }
    },
    "8b235b206779411eb20b218a4205f944": {
     "model_module": "@jupyter-widgets/controls",
     "model_module_version": "1.5.0",
     "model_name": "HBoxModel",
     "state": {
      "_dom_classes": [],
      "_model_module": "@jupyter-widgets/controls",
      "_model_module_version": "1.5.0",
      "_model_name": "HBoxModel",
      "_view_count": null,
      "_view_module": "@jupyter-widgets/controls",
      "_view_module_version": "1.5.0",
      "_view_name": "HBoxView",
      "box_style": "",
      "children": [
       "IPY_MODEL_d5f384d864f94f11a9fa2937738cc217",
       "IPY_MODEL_8daae9ee040243419c4b09f109467d0b",
       "IPY_MODEL_510bddf756a24cfba139b867b4e3e768"
      ],
      "layout": "IPY_MODEL_f85bca21802b4d2c94dd215193c5154a"
     }
    },
    "8daae9ee040243419c4b09f109467d0b": {
     "model_module": "@jupyter-widgets/controls",
     "model_module_version": "1.5.0",
     "model_name": "FloatProgressModel",
     "state": {
      "_dom_classes": [],
      "_model_module": "@jupyter-widgets/controls",
      "_model_module_version": "1.5.0",
      "_model_name": "FloatProgressModel",
      "_view_count": null,
      "_view_module": "@jupyter-widgets/controls",
      "_view_module_version": "1.5.0",
      "_view_name": "ProgressView",
      "bar_style": "success",
      "description": "",
      "description_tooltip": null,
      "layout": "IPY_MODEL_03a864eb3fca49d28c4137fe02d58ae7",
      "max": 1780720,
      "min": 0,
      "orientation": "horizontal",
      "style": "IPY_MODEL_f9262b4f1bd3479db2cc6f9a21604aab",
      "value": 1780720
     }
    },
    "90c3ef0a0e5643489494c8152e36671e": {
     "model_module": "@jupyter-widgets/controls",
     "model_module_version": "1.5.0",
     "model_name": "DescriptionStyleModel",
     "state": {
      "_model_module": "@jupyter-widgets/controls",
      "_model_module_version": "1.5.0",
      "_model_name": "DescriptionStyleModel",
      "_view_count": null,
      "_view_module": "@jupyter-widgets/base",
      "_view_module_version": "1.2.0",
      "_view_name": "StyleView",
      "description_width": ""
     }
    },
    "bd8463df60be4238b745327ba33521e2": {
     "model_module": "@jupyter-widgets/base",
     "model_module_version": "1.2.0",
     "model_name": "LayoutModel",
     "state": {
      "_model_module": "@jupyter-widgets/base",
      "_model_module_version": "1.2.0",
      "_model_name": "LayoutModel",
      "_view_count": null,
      "_view_module": "@jupyter-widgets/base",
      "_view_module_version": "1.2.0",
      "_view_name": "LayoutView",
      "align_content": null,
      "align_items": null,
      "align_self": null,
      "border": null,
      "bottom": null,
      "display": null,
      "flex": null,
      "flex_flow": null,
      "grid_area": null,
      "grid_auto_columns": null,
      "grid_auto_flow": null,
      "grid_auto_rows": null,
      "grid_column": null,
      "grid_gap": null,
      "grid_row": null,
      "grid_template_areas": null,
      "grid_template_columns": null,
      "grid_template_rows": null,
      "height": null,
      "justify_content": null,
      "justify_items": null,
      "left": null,
      "margin": null,
      "max_height": null,
      "max_width": null,
      "min_height": null,
      "min_width": null,
      "object_fit": null,
      "object_position": null,
      "order": null,
      "overflow": null,
      "overflow_x": null,
      "overflow_y": null,
      "padding": null,
      "right": null,
      "top": null,
      "visibility": null,
      "width": null
     }
    },
    "bf37d64f6085490d86f09c2bf38a01c4": {
     "model_module": "@jupyter-widgets/base",
     "model_module_version": "1.2.0",
     "model_name": "LayoutModel",
     "state": {
      "_model_module": "@jupyter-widgets/base",
      "_model_module_version": "1.2.0",
      "_model_name": "LayoutModel",
      "_view_count": null,
      "_view_module": "@jupyter-widgets/base",
      "_view_module_version": "1.2.0",
      "_view_name": "LayoutView",
      "align_content": null,
      "align_items": null,
      "align_self": null,
      "border": null,
      "bottom": null,
      "display": null,
      "flex": null,
      "flex_flow": null,
      "grid_area": null,
      "grid_auto_columns": null,
      "grid_auto_flow": null,
      "grid_auto_rows": null,
      "grid_column": null,
      "grid_gap": null,
      "grid_row": null,
      "grid_template_areas": null,
      "grid_template_columns": null,
      "grid_template_rows": null,
      "height": null,
      "justify_content": null,
      "justify_items": null,
      "left": null,
      "margin": null,
      "max_height": null,
      "max_width": null,
      "min_height": null,
      "min_width": null,
      "object_fit": null,
      "object_position": null,
      "order": null,
      "overflow": null,
      "overflow_x": null,
      "overflow_y": null,
      "padding": null,
      "right": null,
      "top": null,
      "visibility": null,
      "width": null
     }
    },
    "cafcb0fd1bfb4b719528948792b3085a": {
     "model_module": "@jupyter-widgets/controls",
     "model_module_version": "1.5.0",
     "model_name": "ProgressStyleModel",
     "state": {
      "_model_module": "@jupyter-widgets/controls",
      "_model_module_version": "1.5.0",
      "_model_name": "ProgressStyleModel",
      "_view_count": null,
      "_view_module": "@jupyter-widgets/base",
      "_view_module_version": "1.2.0",
      "_view_name": "StyleView",
      "bar_color": null,
      "description_width": ""
     }
    },
    "d5f384d864f94f11a9fa2937738cc217": {
     "model_module": "@jupyter-widgets/controls",
     "model_module_version": "1.5.0",
     "model_name": "HTMLModel",
     "state": {
      "_dom_classes": [],
      "_model_module": "@jupyter-widgets/controls",
      "_model_module_version": "1.5.0",
      "_model_name": "HTMLModel",
      "_view_count": null,
      "_view_module": "@jupyter-widgets/controls",
      "_view_module_version": "1.5.0",
      "_view_name": "HTMLView",
      "description": "",
      "description_tooltip": null,
      "layout": "IPY_MODEL_bd8463df60be4238b745327ba33521e2",
      "placeholder": "​",
      "style": "IPY_MODEL_358858abde724570a7c399788bdf321c",
      "value": "Downloading: 100%"
     }
    },
    "da0c9f3d99534207b896ecf20bda36f1": {
     "model_module": "@jupyter-widgets/base",
     "model_module_version": "1.2.0",
     "model_name": "LayoutModel",
     "state": {
      "_model_module": "@jupyter-widgets/base",
      "_model_module_version": "1.2.0",
      "_model_name": "LayoutModel",
      "_view_count": null,
      "_view_module": "@jupyter-widgets/base",
      "_view_module_version": "1.2.0",
      "_view_name": "LayoutView",
      "align_content": null,
      "align_items": null,
      "align_self": null,
      "border": null,
      "bottom": null,
      "display": null,
      "flex": null,
      "flex_flow": null,
      "grid_area": null,
      "grid_auto_columns": null,
      "grid_auto_flow": null,
      "grid_auto_rows": null,
      "grid_column": null,
      "grid_gap": null,
      "grid_row": null,
      "grid_template_areas": null,
      "grid_template_columns": null,
      "grid_template_rows": null,
      "height": null,
      "justify_content": null,
      "justify_items": null,
      "left": null,
      "margin": null,
      "max_height": null,
      "max_width": null,
      "min_height": null,
      "min_width": null,
      "object_fit": null,
      "object_position": null,
      "order": null,
      "overflow": null,
      "overflow_x": null,
      "overflow_y": null,
      "padding": null,
      "right": null,
      "top": null,
      "visibility": null,
      "width": null
     }
    },
    "df7e31c5d043413582bc4d6aca33c019": {
     "model_module": "@jupyter-widgets/base",
     "model_module_version": "1.2.0",
     "model_name": "LayoutModel",
     "state": {
      "_model_module": "@jupyter-widgets/base",
      "_model_module_version": "1.2.0",
      "_model_name": "LayoutModel",
      "_view_count": null,
      "_view_module": "@jupyter-widgets/base",
      "_view_module_version": "1.2.0",
      "_view_name": "LayoutView",
      "align_content": null,
      "align_items": null,
      "align_self": null,
      "border": null,
      "bottom": null,
      "display": null,
      "flex": null,
      "flex_flow": null,
      "grid_area": null,
      "grid_auto_columns": null,
      "grid_auto_flow": null,
      "grid_auto_rows": null,
      "grid_column": null,
      "grid_gap": null,
      "grid_row": null,
      "grid_template_areas": null,
      "grid_template_columns": null,
      "grid_template_rows": null,
      "height": null,
      "justify_content": null,
      "justify_items": null,
      "left": null,
      "margin": null,
      "max_height": null,
      "max_width": null,
      "min_height": null,
      "min_width": null,
      "object_fit": null,
      "object_position": null,
      "order": null,
      "overflow": null,
      "overflow_x": null,
      "overflow_y": null,
      "padding": null,
      "right": null,
      "top": null,
      "visibility": null,
      "width": null
     }
    },
    "e09cdd38d9fd4aa4a4b122819c5ea95a": {
     "model_module": "@jupyter-widgets/base",
     "model_module_version": "1.2.0",
     "model_name": "LayoutModel",
     "state": {
      "_model_module": "@jupyter-widgets/base",
      "_model_module_version": "1.2.0",
      "_model_name": "LayoutModel",
      "_view_count": null,
      "_view_module": "@jupyter-widgets/base",
      "_view_module_version": "1.2.0",
      "_view_name": "LayoutView",
      "align_content": null,
      "align_items": null,
      "align_self": null,
      "border": null,
      "bottom": null,
      "display": null,
      "flex": null,
      "flex_flow": null,
      "grid_area": null,
      "grid_auto_columns": null,
      "grid_auto_flow": null,
      "grid_auto_rows": null,
      "grid_column": null,
      "grid_gap": null,
      "grid_row": null,
      "grid_template_areas": null,
      "grid_template_columns": null,
      "grid_template_rows": null,
      "height": null,
      "justify_content": null,
      "justify_items": null,
      "left": null,
      "margin": null,
      "max_height": null,
      "max_width": null,
      "min_height": null,
      "min_width": null,
      "object_fit": null,
      "object_position": null,
      "order": null,
      "overflow": null,
      "overflow_x": null,
      "overflow_y": null,
      "padding": null,
      "right": null,
      "top": null,
      "visibility": null,
      "width": null
     }
    },
    "e8cc0fe10ff8470fa60a1587540c88f5": {
     "model_module": "@jupyter-widgets/controls",
     "model_module_version": "1.5.0",
     "model_name": "HTMLModel",
     "state": {
      "_dom_classes": [],
      "_model_module": "@jupyter-widgets/controls",
      "_model_module_version": "1.5.0",
      "_model_name": "HTMLModel",
      "_view_count": null,
      "_view_module": "@jupyter-widgets/controls",
      "_view_module_version": "1.5.0",
      "_view_name": "HTMLView",
      "description": "",
      "description_tooltip": null,
      "layout": "IPY_MODEL_da0c9f3d99534207b896ecf20bda36f1",
      "placeholder": "​",
      "style": "IPY_MODEL_2615816b74c646549e505dc4a7dec4ed",
      "value": "Downloading: 100%"
     }
    },
    "eb7f001689f64573a8ed59eab191f905": {
     "model_module": "@jupyter-widgets/controls",
     "model_module_version": "1.5.0",
     "model_name": "DescriptionStyleModel",
     "state": {
      "_model_module": "@jupyter-widgets/controls",
      "_model_module_version": "1.5.0",
      "_model_name": "DescriptionStyleModel",
      "_view_count": null,
      "_view_module": "@jupyter-widgets/base",
      "_view_module_version": "1.2.0",
      "_view_name": "StyleView",
      "description_width": ""
     }
    },
    "f2c2d4c5f9044d2090d92832e589cbcf": {
     "model_module": "@jupyter-widgets/controls",
     "model_module_version": "1.5.0",
     "model_name": "HBoxModel",
     "state": {
      "_dom_classes": [],
      "_model_module": "@jupyter-widgets/controls",
      "_model_module_version": "1.5.0",
      "_model_name": "HBoxModel",
      "_view_count": null,
      "_view_module": "@jupyter-widgets/controls",
      "_view_module_version": "1.5.0",
      "_view_name": "HBoxView",
      "box_style": "",
      "children": [
       "IPY_MODEL_e8cc0fe10ff8470fa60a1587540c88f5",
       "IPY_MODEL_86c833ab5cc94b48bd4715155df7c0a2",
       "IPY_MODEL_3c4c5131cb784aad8cd5de629dd8f05f"
      ],
      "layout": "IPY_MODEL_bf37d64f6085490d86f09c2bf38a01c4"
     }
    },
    "f85bca21802b4d2c94dd215193c5154a": {
     "model_module": "@jupyter-widgets/base",
     "model_module_version": "1.2.0",
     "model_name": "LayoutModel",
     "state": {
      "_model_module": "@jupyter-widgets/base",
      "_model_module_version": "1.2.0",
      "_model_name": "LayoutModel",
      "_view_count": null,
      "_view_module": "@jupyter-widgets/base",
      "_view_module_version": "1.2.0",
      "_view_name": "LayoutView",
      "align_content": null,
      "align_items": null,
      "align_self": null,
      "border": null,
      "bottom": null,
      "display": null,
      "flex": null,
      "flex_flow": null,
      "grid_area": null,
      "grid_auto_columns": null,
      "grid_auto_flow": null,
      "grid_auto_rows": null,
      "grid_column": null,
      "grid_gap": null,
      "grid_row": null,
      "grid_template_areas": null,
      "grid_template_columns": null,
      "grid_template_rows": null,
      "height": null,
      "justify_content": null,
      "justify_items": null,
      "left": null,
      "margin": null,
      "max_height": null,
      "max_width": null,
      "min_height": null,
      "min_width": null,
      "object_fit": null,
      "object_position": null,
      "order": null,
      "overflow": null,
      "overflow_x": null,
      "overflow_y": null,
      "padding": null,
      "right": null,
      "top": null,
      "visibility": null,
      "width": null
     }
    },
    "f9262b4f1bd3479db2cc6f9a21604aab": {
     "model_module": "@jupyter-widgets/controls",
     "model_module_version": "1.5.0",
     "model_name": "ProgressStyleModel",
     "state": {
      "_model_module": "@jupyter-widgets/controls",
      "_model_module_version": "1.5.0",
      "_model_name": "ProgressStyleModel",
      "_view_count": null,
      "_view_module": "@jupyter-widgets/base",
      "_view_module_version": "1.2.0",
      "_view_name": "StyleView",
      "bar_color": null,
      "description_width": ""
     }
    }
   }
  }
 },
 "nbformat": 4,
 "nbformat_minor": 4
}
